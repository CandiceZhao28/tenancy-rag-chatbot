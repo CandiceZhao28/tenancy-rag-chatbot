{
 "cells": [
  {
   "cell_type": "markdown",
   "id": "39c274a7-3f12-4212-ae3a-c453e20ea6db",
   "metadata": {},
   "source": [
    "## Load libraries"
   ]
  },
  {
   "cell_type": "code",
   "execution_count": 1,
   "id": "b27c350b-0226-4343-bca6-17f042b3a473",
   "metadata": {},
   "outputs": [],
   "source": [
    "from langchain.document_loaders import TextLoader\n",
    "from langchain.text_splitter import CharacterTextSplitter\n",
    "from langchain.schema import Document\n",
    "\n",
    "from langchain.embeddings import HuggingFaceBgeEmbeddings\n",
    "from langchain_chroma import Chroma\n",
    "\n",
    "import os"
   ]
  },
  {
   "cell_type": "markdown",
   "id": "a7234bab-4671-4b22-bfcf-569ba24fb35d",
   "metadata": {},
   "source": [
    "## Load sources & chunking"
   ]
  },
  {
   "cell_type": "code",
   "execution_count": 2,
   "id": "ddebe4bc-e057-44ac-9310-a4db16754210",
   "metadata": {},
   "outputs": [],
   "source": [
    "# extract address and tenant from file names\n",
    "def extract_metadata_from_filename(filename):\n",
    "    parts = filename.replace(\".txt\", \"\").split(\"____\")\n",
    "    address = parts[0].replace(\"_\", \" \")\n",
    "    # contract file\n",
    "    if len(parts) > 1: \n",
    "        tenant_names = parts[1].split(\"__\")\n",
    "        tenant_names = [name.replace(\"_\", \" \") for name in tenant_names]\n",
    "        tenant_names_string = \", \".join(tenant_names)\n",
    "    # general terms file\n",
    "    else: \n",
    "        # tenant_names = [\"This is a file containing general terms that apply to all tenancy agreements\"]\n",
    "        tenant_names_string = \"This is a file containing general terms that apply to all tenancy agreements\"\n",
    "    # return {\"property_address\": address, \"tenant_name\": tenant_names}\n",
    "    return {\"property_address\": address, \"tenant_name\": tenant_names_string}\n",
    "    "
   ]
  },
  {
   "cell_type": "code",
   "execution_count": 3,
   "id": "c01b67b0-845c-425d-b28c-b91fc6b603d2",
   "metadata": {},
   "outputs": [
    {
     "name": "stderr",
     "output_type": "stream",
     "text": [
      "Created a chunk of size 1031, which is longer than the specified 1000\n"
     ]
    },
    {
     "name": "stdout",
     "output_type": "stream",
     "text": [
      "Number of source files: 6\n",
      "Number of chunks: 89\n"
     ]
    }
   ],
   "source": [
    "text_splitter = CharacterTextSplitter(separator=\"\\n\", chunk_size=1000, chunk_overlap=200)\n",
    "\n",
    "documents = []\n",
    "source_file_path = \"source_files_tenancy_agreements\"\n",
    "num_file = 0\n",
    "\n",
    "for filename in os.listdir(source_file_path):\n",
    "    if filename.endswith(\".txt\"):\n",
    "        # print(filename)\n",
    "        with open(os.path.join(source_file_path, filename), \"r\") as f:\n",
    "            text = f.read()\n",
    "        metadata = extract_metadata_from_filename(filename)\n",
    "        # print(metadata)\n",
    "\n",
    "        chunks = text_splitter.split_text(text)\n",
    "\n",
    "        for chunk in chunks:\n",
    "            # metadata_string = \"Retal property address: \" + metadata[\"property_address\"] + \"\\n\" + \"Tenant names: \" + \", \".join(metadata[\"tenant_name\"]) + \"\\n\"\n",
    "            metadata_string = \"Retal property address: \" + metadata[\"property_address\"] + \"\\n\" + \"Tenant names: \" + metadata[\"tenant_name\"] + \"\\n\"\n",
    "            chunk_with_metadata = metadata_string + chunk\n",
    "            doc = Document(page_content = chunk_with_metadata, metadata = metadata)\n",
    "            documents.append(doc)\n",
    "        num_file += 1\n",
    "        \n",
    "print(f\"Number of source files: {num_file}\")            \n",
    "print(f\"Number of chunks: {len(documents)}\")"
   ]
  },
  {
   "cell_type": "code",
   "execution_count": 4,
   "id": "f2592d75-33d4-491e-819a-6d6ee513c015",
   "metadata": {},
   "outputs": [
    {
     "name": "stdout",
     "output_type": "stream",
     "text": [
      "Retal property address: 4 Darleith Street\n",
      "Tenant names: Kunkala Sandeep\n",
      "DEPOSIT \n",
      "At the start date of the tenancy or before, a deposit of £725 will be paid by the Tenant to the Landlord. The Landlord will issue a receipt for the deposit to the Tenant. No interest shall be paid by the Landlord to the Tenant for the deposit.  \n",
      "By law, the deposit amount cannot exceed the equivalent of two months’ rent and cannot include any premiums. For example, charging for an administration fee or taking a holding fee (regardless of whether or not the holding fee is refundable).  \n",
      "The scheme administrator is My|deposits Scotland and \n",
      "their contact details are:\n",
      "http://www.mydepositsscotland.co.uk/\n",
      "info@mydepositsscotland.co.uk ",
      "\n",
      "0333 321 9402\n",
      "THE GUARANTOR\n"
     ]
    }
   ],
   "source": [
    "print(documents[85].page_content)"
   ]
  },
  {
   "cell_type": "markdown",
   "id": "f684cb5c-9ff9-4774-8d9c-64a2ddabed31",
   "metadata": {},
   "source": [
    "## Create vector store"
   ]
  },
  {
   "cell_type": "code",
   "execution_count": 5,
   "id": "df2e2e3a-ae5c-4539-8180-773e9ea4f602",
   "metadata": {},
   "outputs": [
    {
     "name": "stdout",
     "output_type": "stream",
     "text": [
      "persist_directory is: vector_db_tenancy_agreements\n"
     ]
    }
   ],
   "source": [
    "embedding_model = HuggingFaceBgeEmbeddings(model_name = \"sentence-transformers/all-MiniLM-L6-v2\")\n",
    "persist_directory = \"vector_db_tenancy_agreements\"\n",
    "print('persist_directory is:', persist_directory)\n",
    "\n",
    "vectordb = Chroma.from_documents(documents=documents,\n",
    "                                embedding=embedding_model,\n",
    "                                persist_directory=persist_directory,\n",
    "                                collection_name=\"tenecy_agreements\")"
   ]
  },
  {
   "cell_type": "code",
   "execution_count": null,
   "id": "8b671560-f0a9-4a9c-b7e5-a4908ab49e32",
   "metadata": {},
   "outputs": [],
   "source": []
  },
  {
   "cell_type": "code",
   "execution_count": null,
   "id": "9bacc4c1-dc3a-4185-bb23-479bbffdcfc2",
   "metadata": {},
   "outputs": [],
   "source": []
  }
 ],
 "metadata": {
  "kernelspec": {
   "display_name": "llg_rag",
   "language": "python",
   "name": "llg_rag"
  },
  "language_info": {
   "codemirror_mode": {
    "name": "ipython",
    "version": 3
   },
   "file_extension": ".py",
   "mimetype": "text/x-python",
   "name": "python",
   "nbconvert_exporter": "python",
   "pygments_lexer": "ipython3",
   "version": "3.11.9"
  }
 },
 "nbformat": 4,
 "nbformat_minor": 5
}
