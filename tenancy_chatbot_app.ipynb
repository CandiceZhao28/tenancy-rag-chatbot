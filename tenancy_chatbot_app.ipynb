{
 "cells": [
  {
   "cell_type": "code",
   "execution_count": null,
   "id": "7131a969-8b28-416f-a78d-34cfb2396dbe",
   "metadata": {},
   "outputs": [],
   "source": [
    "import streamlit as st\n",
    "from tenancy_rag_pipeline import answer_query"
   ]
  }
 ],
 "metadata": {
  "kernelspec": {
   "display_name": "llg_rag",
   "language": "python",
   "name": "llg_rag"
  },
  "language_info": {
   "codemirror_mode": {
    "name": "ipython",
    "version": 3
   },
   "file_extension": ".py",
   "mimetype": "text/x-python",
   "name": "python",
   "nbconvert_exporter": "python",
   "pygments_lexer": "ipython3",
   "version": "3.11.9"
  }
 },
 "nbformat": 4,
 "nbformat_minor": 5
}
