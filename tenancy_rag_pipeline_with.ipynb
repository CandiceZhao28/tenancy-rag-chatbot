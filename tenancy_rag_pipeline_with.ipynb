{
 "cells": [
  {
   "cell_type": "markdown",
   "id": "95038f64-2567-463a-bc4c-6bbf361704ee",
   "metadata": {},
   "source": [
    "## 0. Load libraries & environment variables"
   ]
  },
  {
   "cell_type": "code",
   "execution_count": 8,
   "id": "8aa0064d-aa1e-484a-a65c-d6d61bf9118f",
   "metadata": {},
   "outputs": [
    {
     "data": {
      "text/plain": [
       "True"
      ]
     },
     "execution_count": 8,
     "metadata": {},
     "output_type": "execute_result"
    }
   ],
   "source": [
    "from dotenv import load_dotenv\n",
    "load_dotenv()"
   ]
  },
  {
   "cell_type": "code",
   "execution_count": 18,
   "id": "3ff9515e-2140-45ef-afea-40d52aa8abb6",
   "metadata": {},
   "outputs": [],
   "source": [
    "from langchain_chroma import Chroma\n",
    "from langchain.embeddings import HuggingFaceBgeEmbeddings\n",
    "\n",
    "from langchain_core.prompts import PromptTemplate\n",
    "from langchain_core.output_parsers import StrOutputParser\n",
    "from langchain_core.runnables import RunnablePassthrough\n",
    "\n",
    "from langchain_openai import ChatOpenAI\n",
    "\n",
    "from langchain.retrievers import ContextualCompressionRetriever\n",
    "from langchain.retrievers.document_compressors import FlashrankRerank\n",
    "\n",
    "import logging\n",
    "logging.getLogger(\"httpx\").setLevel(logging.WARNING)"
   ]
  },
  {
   "cell_type": "markdown",
   "id": "b1e6c1c4-cdc3-4ffe-8b4c-59846d4e1153",
   "metadata": {},
   "source": [
    "## 1. Retriever"
   ]
  },
  {
   "cell_type": "code",
   "execution_count": 82,
   "id": "51fa8500-d091-4050-842f-e681c5793b41",
   "metadata": {},
   "outputs": [],
   "source": [
    "########## IMPORTANT #############\n",
    "# Set number of chunks for both the base retriever and reranker. \n",
    "# FlashRank reranker will NOT inherit it from base retriever. If not set gthe default top_n = 3 will be used\n",
    "TOP_N_RETRIEVE = 10\n",
    "TOP_N_RERANK = 5"
   ]
  },
  {
   "cell_type": "markdown",
   "id": "303fccc3-ca34-4789-8ba4-580329dd591b",
   "metadata": {},
   "source": [
    "### Base retriever"
   ]
  },
  {
   "cell_type": "code",
   "execution_count": 83,
   "id": "8327c809-894f-4f43-9827-7638622387a7",
   "metadata": {},
   "outputs": [
    {
     "name": "stderr",
     "output_type": "stream",
     "text": [
      "INFO:sentence_transformers.SentenceTransformer:Use pytorch device_name: mps\n",
      "INFO:sentence_transformers.SentenceTransformer:Load pretrained SentenceTransformer: sentence-transformers/all-MiniLM-L6-v2\n"
     ]
    }
   ],
   "source": [
    "# access the stored vector store\n",
    "embedding_model = HuggingFaceBgeEmbeddings(model_name = \"sentence-transformers/all-MiniLM-L6-v2\")\n",
    "persist_directory = \"vector_db_tenancy_agreements\"\n",
    "vectordb = Chroma(embedding_function=embedding_model,\n",
    "                  persist_directory=persist_directory,\n",
    "                  collection_name=\"tenecy_agreements\")\n",
    "\n",
    "# set as base retriever\n",
    "retriever = vectordb.as_retriever(search_type = 'similarity', search_kwargs = {'k': TOP_N_RETRIEVE})"
   ]
  },
  {
   "cell_type": "markdown",
   "id": "675cf313-453a-4fab-9c19-6709bb8b976b",
   "metadata": {},
   "source": [
    "### Pre-retrieval query rewriting"
   ]
  },
  {
   "cell_type": "code",
   "execution_count": 85,
   "id": "ae2e2333-3663-4d0e-a85d-da344e6e0f32",
   "metadata": {},
   "outputs": [],
   "source": [
    "def query_rewrite(query: str, llm: ChatOpenAI):\n",
    "    query_rerite_prompt = f\"\"\"\n",
    "    You are a helpful assistant that takes a user's query and turns it into a short sentence or paragraph \n",
    "    so that it can be used in a semantic similarity search on a vector database to return the most similar \n",
    "    chunks of content based on the rewriten query. It is very likely the user is going to ask for information \n",
    "    that is contained in a tenancy agreement. Make sure to extract the property address and tenant names if any is mentioned.\n",
    "    Please make no comment, just return the rewritten query.\n",
    "\n",
    "    query: {query}\n",
    "\n",
    "    ai: \"\"\"\n",
    "\n",
    "    rewriten_query = llm.invoke(query_rerite_prompt)\n",
    "\n",
    "    return rewriten_query"
   ]
  },
  {
   "cell_type": "markdown",
   "id": "1c581b18-67bf-47fa-a4d2-652c248ecfe0",
   "metadata": {},
   "source": [
    "### Reranking"
   ]
  },
  {
   "cell_type": "code",
   "execution_count": 75,
   "id": "9ebe6dc6-a438-4692-b793-97aa9c6df763",
   "metadata": {},
   "outputs": [],
   "source": [
    "compressor = FlashrankRerank(top_n = TOP_N_RERANK, # make sure to set top_n explicitly as it won't inherit it from the base retriever\n",
    "                            prefix_metadata='', # metadata (address and tenant names) are already in the text of each chunk so no need to inject here\n",
    "                            score_threshold = 0.0 # lower the bar for quesitons such as \"how many rental flats in Glasgow?\"\n",
    "                            ) \n",
    "\n",
    "compression_retriever = ContextualCompressionRetriever(\n",
    "    base_compressor = compressor,\n",
    "    base_retriever = retriever,\n",
    ")"
   ]
  },
  {
   "cell_type": "code",
   "execution_count": 76,
   "id": "3a4bef85-c82c-4c0a-b7b8-8658b040e627",
   "metadata": {},
   "outputs": [
    {
     "name": "stdout",
     "output_type": "stream",
     "text": [
      "<bound method BaseModel._calculate_keys of ContextualCompressionRetriever(base_compressor=FlashrankRerank(client=<flashrank.Ranker.Ranker object at 0x10ea05ed0>, top_n=4, score_threshold=0.0, model='ms-marco-MultiBERT-L-12', prefix_metadata=''), base_retriever=VectorStoreRetriever(tags=['Chroma', 'HuggingFaceBgeEmbeddings'], vectorstore=<langchain_chroma.vectorstores.Chroma object at 0x28984cc50>, search_kwargs={'k': 7}))>\n"
     ]
    }
   ],
   "source": [
    "print(compression_retriever._calculate_keys)"
   ]
  },
  {
   "cell_type": "markdown",
   "id": "f50857d7-b72a-4b13-94bb-51261cccbd17",
   "metadata": {},
   "source": [
    "## 2. LLM"
   ]
  },
  {
   "cell_type": "code",
   "execution_count": 96,
   "id": "2e549555-5ded-499b-bab4-04069ada7286",
   "metadata": {},
   "outputs": [],
   "source": [
    "llm = ChatOpenAI(model=\"gpt-4o-mini\", temperature = 0.3)"
   ]
  },
  {
   "cell_type": "markdown",
   "id": "ce2d9640-3867-47de-8cd6-8a8f84289e74",
   "metadata": {},
   "source": [
    "## 3. Prompt template"
   ]
  },
  {
   "cell_type": "code",
   "execution_count": 32,
   "id": "17f86fd6-0700-44e5-a3bd-dd227ce4c520",
   "metadata": {},
   "outputs": [],
   "source": [
    "# Format the retrieved chunks\n",
    "def format_docs(docs):\n",
    "    return \"\\n\\n\".join(doc.page_content for doc in docs)"
   ]
  },
  {
   "cell_type": "code",
   "execution_count": 77,
   "id": "71fc71af-f86c-4012-8b37-dec0a2e67688",
   "metadata": {},
   "outputs": [],
   "source": [
    "prompt_template = \"\"\"Use the context provided to answer the user's question below. If you do not know the answer \n",
    "based on the context provided, tell the user that you do not know the answer to their question based on the context\n",
    "provided and that you are sorry.\n",
    "\n",
    "context: {context}\n",
    "\n",
    "question: {query}\n",
    "\n",
    "answer:\n",
    "\"\"\"\n",
    "\n",
    "custom_rag_prompt = PromptTemplate.from_template(prompt_template)"
   ]
  },
  {
   "cell_type": "markdown",
   "id": "bcfd4682-6273-4fc9-9592-1d8ea5d21248",
   "metadata": {},
   "source": [
    "## 4. RAG Chain"
   ]
  },
  {
   "cell_type": "code",
   "execution_count": 97,
   "id": "09732c3a-c4dc-48ad-ab5e-836e6fd30253",
   "metadata": {},
   "outputs": [],
   "source": [
    "class RAGChain:\n",
    "    def __init__(\n",
    "        self,\n",
    "        llm: ChatOpenAI,\n",
    "        retriever: ContextualCompressionRetriever,\n",
    "        prompt: PromptTemplate\n",
    "    ):\n",
    "        self.llm = llm\n",
    "        self.retriever = retriever\n",
    "        self.prompt = prompt\n",
    "\n",
    "    # method - invoke\n",
    "    def invoke(self, query: str):\n",
    "        # Pre-retrieval rewriting\n",
    "        rewriten_query = query_rewrite(query, self.llm)\n",
    "        \n",
    "        # reranking\n",
    "        docs = self.retriever.invoke(rewriten_query.content)\n",
    "        \n",
    "        # Formatting retrieved\n",
    "        context = format_docs(docs)\n",
    "        \n",
    "        # Prompt Template\n",
    "        final_prompt = self.prompt.format(context=context, query=query)\n",
    "        \n",
    "        # Invoke \n",
    "        return llm.invoke(final_prompt)"
   ]
  },
  {
   "cell_type": "code",
   "execution_count": 98,
   "id": "76c2967e-bfec-4dca-b62c-74f74aec33cf",
   "metadata": {},
   "outputs": [],
   "source": [
    "rag_chain = RAGChain(llm, compression_retriever, custom_rag_prompt)"
   ]
  },
  {
   "cell_type": "code",
   "execution_count": 136,
   "id": "edd1ecb5-106d-4731-9a1a-5a7b44fa3cef",
   "metadata": {},
   "outputs": [],
   "source": [
    "def answer_query(query: str):\n",
    "    return rag_chain.invoke(query).content"
   ]
  },
  {
   "cell_type": "markdown",
   "id": "a852a9c5-1d88-44cb-b502-2c51d35b7d89",
   "metadata": {},
   "source": [
    "## 5. Test with questions"
   ]
  },
  {
   "cell_type": "code",
   "execution_count": 134,
   "id": "a1bfd8fd-ab37-4f6d-8f3f-e765b8c2db86",
   "metadata": {},
   "outputs": [],
   "source": [
    "questions = [\"Who are the tenants in 29 Marwick Street?\",\n",
    "             \"What is the rent and the deposit of the flat on Maxwellton Street?\",\n",
    "             \"Is there a guarantor for tenants in 22 Maxwellton Street?\",\n",
    "            \"When did the tenancy start for flat at 166 Causewayside?\",\n",
    "             \"What is the address of the rental flat in Edinburgh?\",\n",
    "             \"What is the address of the rental property in G32?\",\n",
    "             \"What is the general policy about keeping a pet in the rental flats?\",\n",
    "             \"What are the responsibilities of the landlord if an emergency repair is needed?\",\n",
    "             \"Is the tenant allowed to sublet a rental property?\"\n",
    "             \"How to end a tenancy as a tenant?\"\n",
    "            ]"
   ]
  },
  {
   "cell_type": "code",
   "execution_count": 137,
   "id": "3cbcbd75-7c45-4168-bc16-9d4ffe54dee8",
   "metadata": {},
   "outputs": [
    {
     "name": "stdout",
     "output_type": "stream",
     "text": [
      "Testing Q&A: \n",
      "\n",
      "Q: Who are the tenants in 29 Marwick Street?\n",
      "A: The tenants at 29 Marwick Street are Kyle Grant and Loreta Brunton.\n",
      "\n",
      "Q: What is the rent and the deposit of the flat on Maxwellton Street?\n",
      "A: The rent for the flat on Maxwellton Street is £545 a calendar month, and the deposit is £485.\n",
      "\n",
      "Q: Is there a guarantor for tenants in 22 Maxwellton Street?\n",
      "A: Yes, there is a guarantor for the tenants in 22 Maxwellton Street. The guarantor is Helen Govha.\n",
      "\n",
      "Q: When did the tenancy start for flat at 166 Causewayside?\n",
      "A: The tenancy for the flat at 166 Causewayside started on 16/05/2024.\n",
      "\n",
      "Q: What is the address of the rental flat in Edinburgh?\n",
      "A: The address of the rental flat in Edinburgh is Flat 7, 166 Causewayside, Edinburgh, EH9 1PJ.\n",
      "\n",
      "Q: What is the address of the rental property in G32?\n",
      "A: The address of the rental property in G32 is Flat 2/2, 4 Darleith Street, Glasgow, G32 7HZ.\n",
      "\n",
      "Q: What is the general policy about keeping a pet in the rental flats?\n",
      "A: The general policy about keeping a pet in the rental flats is that the Tenant will not keep any animals or pets in the Let Property without the prior written consent of the Landlord. If a pet is permitted, it must be kept under supervision and control to ensure that it does not cause deterioration in the condition of the Let Property or common areas, or create a nuisance to neighbors or in the locality of the Let Property.\n",
      "\n",
      "Q: What are the responsibilities of the landlord if an emergency repair is needed?\n",
      "A: The landlord is responsible for carrying out necessary repairs as soon as is reasonably practicable after having been notified of the need for the repair or emergency by the tenant.\n",
      "\n",
      "Q: Is the tenant allowed to sublet a rental property?How to end a tenancy as a tenant?\n",
      "A: Based on the context provided, I do not have information regarding whether the tenant is allowed to sublet a rental property. I am sorry. \n",
      "\n",
      "However, to end a tenancy as a tenant, the tenant must give the landlord at least 28 days’ notice in writing to terminate the tenancy, or an earlier date if the landlord agrees to waive the minimum notice period in writing. The tenancy will end on the date specified in the notice or the earlier date agreed upon. If it is a joint tenancy, all joint tenants must agree to end the tenancy; one joint tenant cannot terminate it on behalf of all.\n",
      "\n"
     ]
    }
   ],
   "source": [
    "print(\"Testing Q&A: \\n\")\n",
    "for query in questions:\n",
    "    print(\"Q: \" + query)\n",
    "    print(\"A: \" + answer_query(query) + \"\\n\")"
   ]
  },
  {
   "cell_type": "code",
   "execution_count": null,
   "id": "591dfc6e-704a-4f65-b851-541f0f5ad1b3",
   "metadata": {},
   "outputs": [],
   "source": []
  }
 ],
 "metadata": {
  "kernelspec": {
   "display_name": "llg_rag",
   "language": "python",
   "name": "llg_rag"
  },
  "language_info": {
   "codemirror_mode": {
    "name": "ipython",
    "version": 3
   },
   "file_extension": ".py",
   "mimetype": "text/x-python",
   "name": "python",
   "nbconvert_exporter": "python",
   "pygments_lexer": "ipython3",
   "version": "3.11.9"
  }
 },
 "nbformat": 4,
 "nbformat_minor": 5
}
